{
 "cells": [
  {
   "cell_type": "code",
   "execution_count": 47,
   "id": "a30a17f5",
   "metadata": {},
   "outputs": [],
   "source": [
    "f=lambda a:sum(a)/4"
   ]
  },
  {
   "cell_type": "code",
   "execution_count": 64,
   "id": "9d542cb7",
   "metadata": {},
   "outputs": [],
   "source": [
    "L=[1,12,34,1,22,23,34,45]"
   ]
  },
  {
   "cell_type": "code",
   "execution_count": 72,
   "id": "27419ffb",
   "metadata": {},
   "outputs": [
    {
     "name": "stdout",
     "output_type": "stream",
     "text": [
      "[860, 794, 1338, 1142]\n",
      "[794, 1338, 1142, 1096]\n",
      "[1338, 1142, 1096, 1021]\n",
      "[1142, 1096, 1021, 1705]\n",
      "[1096, 1021, 1705, 1505]\n",
      "[1021, 1705, 1505, 1436]\n",
      "[1705, 1505, 1436, 1336]\n",
      "[1505, 1436, 1336, 2319]\n"
     ]
    }
   ],
   "source": [
    "for i in range(len(L)-4):\n",
    "    print([L[j+i] for j in range(4)])"
   ]
  },
  {
   "cell_type": "code",
   "execution_count": 85,
   "id": "adec95a1",
   "metadata": {},
   "outputs": [],
   "source": [
    "M=[[L[j+i] for j in range(4)] for i in range(len(L)-3)]"
   ]
  },
  {
   "cell_type": "code",
   "execution_count": 86,
   "id": "07a90258",
   "metadata": {},
   "outputs": [
    {
     "data": {
      "text/plain": [
       "[[860, 794, 1338, 1148],\n",
       " [794, 1338, 1148, 1096],\n",
       " [1338, 1148, 1096, 1021],\n",
       " [1148, 1096, 1021, 1705],\n",
       " [1096, 1021, 1705, 1505],\n",
       " [1021, 1705, 1505, 1436],\n",
       " [1705, 1505, 1436, 1363],\n",
       " [1505, 1436, 1363, 2319],\n",
       " [1436, 1363, 2319, 2047]]"
      ]
     },
     "execution_count": 86,
     "metadata": {},
     "output_type": "execute_result"
    }
   ],
   "source": [
    "M"
   ]
  },
  {
   "cell_type": "code",
   "execution_count": 58,
   "id": "f1b7d7b6",
   "metadata": {},
   "outputs": [
    {
     "data": {
      "text/plain": [
       "[12.0, 17.25, 20.0, 20.0, 31.0]"
      ]
     },
     "execution_count": 58,
     "metadata": {},
     "output_type": "execute_result"
    }
   ],
   "source": [
    "Y=list(map(f,M))\n",
    "Y"
   ]
  },
  {
   "cell_type": "code",
   "execution_count": 56,
   "id": "f905d872",
   "metadata": {},
   "outputs": [],
   "source": [
    "S=[(Y[i]+Y[i+1])/2 for i in range(len(Y)-1)]"
   ]
  },
  {
   "cell_type": "code",
   "execution_count": 57,
   "id": "363acb7a",
   "metadata": {},
   "outputs": [
    {
     "data": {
      "text/plain": [
       "[14.625, 18.625, 20.0, 25.5]"
      ]
     },
     "execution_count": 57,
     "metadata": {},
     "output_type": "execute_result"
    }
   ],
   "source": [
    "S"
   ]
  },
  {
   "cell_type": "code",
   "execution_count": 87,
   "id": "1c965969",
   "metadata": {},
   "outputs": [],
   "source": [
    "def MAV(L):\n",
    "    M=[[L[j+i] for j in range(4)] for i in range(len(L)-3)]\n",
    "    Y=list(map(lambda a:sum(a)/4,M))\n",
    "    return [(Y[i]+Y[i+1])/2 for i in range(len(Y)-1)]\n",
    "    "
   ]
  },
  {
   "cell_type": "code",
   "execution_count": 88,
   "id": "55a86af0",
   "metadata": {},
   "outputs": [],
   "source": [
    "L=[860,794,1338,1148,1096,1021,1705,1505,1436,1363,2319,2047]"
   ]
  },
  {
   "cell_type": "code",
   "execution_count": 89,
   "id": "191e514d",
   "metadata": {},
   "outputs": [
    {
     "data": {
      "text/plain": [
       "12"
      ]
     },
     "execution_count": 89,
     "metadata": {},
     "output_type": "execute_result"
    }
   ],
   "source": [
    "len(L)"
   ]
  },
  {
   "cell_type": "code",
   "execution_count": 90,
   "id": "d5f74a8b",
   "metadata": {},
   "outputs": [
    {
     "data": {
      "text/plain": [
       "[1064.5, 1122.375, 1196.625, 1287.125, 1374.25, 1459.5, 1579.0, 1723.5]"
      ]
     },
     "execution_count": 90,
     "metadata": {},
     "output_type": "execute_result"
    }
   ],
   "source": [
    "MAV(L)"
   ]
  },
  {
   "cell_type": "code",
   "execution_count": 91,
   "id": "8516cad2",
   "metadata": {},
   "outputs": [],
   "source": [
    "MA=[0,0,1064.5, 1122.375, 1196.625, 1287.125, 1374.25, 1459.5, 1579.0, 1723.5,0,0]"
   ]
  },
  {
   "cell_type": "code",
   "execution_count": 99,
   "id": "bf833c38",
   "metadata": {},
   "outputs": [
    {
     "data": {
      "text/plain": [
       "[0,\n",
       " 0,\n",
       " 1064.5,\n",
       " 1122.375,\n",
       " 1196.625,\n",
       " 1287.125,\n",
       " 1374.25,\n",
       " 1459.5,\n",
       " 1579.0,\n",
       " 1723.5,\n",
       " 0,\n",
       " 0]"
      ]
     },
     "execution_count": 99,
     "metadata": {},
     "output_type": "execute_result"
    }
   ],
   "source": [
    "MA"
   ]
  },
  {
   "cell_type": "code",
   "execution_count": 97,
   "id": "d592ab9d",
   "metadata": {},
   "outputs": [],
   "source": [
    "R=[-MA[i]+L[i] for i in range(len(L))]"
   ]
  },
  {
   "cell_type": "code",
   "execution_count": 98,
   "id": "8bb1af54",
   "metadata": {},
   "outputs": [
    {
     "data": {
      "text/plain": [
       "[860,\n",
       " 794,\n",
       " 273.5,\n",
       " 25.625,\n",
       " -100.625,\n",
       " -266.125,\n",
       " 330.75,\n",
       " 45.5,\n",
       " -143.0,\n",
       " -360.5,\n",
       " 2319,\n",
       " 2047]"
      ]
     },
     "execution_count": 98,
     "metadata": {},
     "output_type": "execute_result"
    }
   ],
   "source": [
    "R"
   ]
  },
  {
   "cell_type": "code",
   "execution_count": null,
   "id": "2a3a7934",
   "metadata": {},
   "outputs": [],
   "source": []
  }
 ],
 "metadata": {
  "kernelspec": {
   "display_name": "Python 3",
   "language": "python",
   "name": "python3"
  },
  "language_info": {
   "codemirror_mode": {
    "name": "ipython",
    "version": 3
   },
   "file_extension": ".py",
   "mimetype": "text/x-python",
   "name": "python",
   "nbconvert_exporter": "python",
   "pygments_lexer": "ipython3",
   "version": "3.8.8"
  }
 },
 "nbformat": 4,
 "nbformat_minor": 5
}
